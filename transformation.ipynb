{
 "cells": [
  {
   "cell_type": "code",
   "execution_count": 1,
   "metadata": {},
   "outputs": [],
   "source": [
    "import pandas as pd\n",
    "import seaborn as sns"
   ]
  },
  {
   "attachments": {},
   "cell_type": "markdown",
   "metadata": {},
   "source": [
    "# CARGA DE DATOS"
   ]
  },
  {
   "cell_type": "code",
   "execution_count": null,
   "metadata": {},
   "outputs": [],
   "source": [
    "df = pd.read_parquet('Datasets_original/train.parquet', engine='pyarrow')"
   ]
  },
  {
   "cell_type": "code",
   "execution_count": 2,
   "metadata": {},
   "outputs": [],
   "source": [
    "df = pd.read_parquet('Datasets_original/test.parquet', engine='pyarrow')"
   ]
  },
  {
   "attachments": {},
   "cell_type": "markdown",
   "metadata": {},
   "source": [
    "# TRANSFORMACION"
   ]
  },
  {
   "attachments": {},
   "cell_type": "markdown",
   "metadata": {},
   "source": [
    "para train.parquet"
   ]
  },
  {
   "cell_type": "code",
   "execution_count": null,
   "metadata": {},
   "outputs": [],
   "source": [
    "#se elimina las filas con precio 0\n",
    "df = df[df['price'] != 0]\n",
    "\n",
    "#se crea la columna isLow que sera le variable objetivo\n",
    "df['isLow'] = df['price'].apply( lambda price: 1 if price <= 999  else 0 )\n",
    "\n",
    "#se combinan las columnas state y region\n",
    "df['location'] = (df['state'] + '-' + df['region'])\n",
    "\n",
    "#se crea el df donde se ira adaptando la data para el modelo\n",
    "df_adpt = df[['price',\n",
    " 'sqfeet',\n",
    " 'beds',\n",
    " 'baths',\n",
    " 'cats_allowed',\n",
    " 'dogs_allowed',\n",
    " 'smoking_allowed',\n",
    " 'wheelchair_access',\n",
    " 'electric_vehicle_charge',\n",
    " 'comes_furnished',]]"
   ]
  },
  {
   "attachments": {},
   "cell_type": "markdown",
   "metadata": {},
   "source": [
    "para test.parquet"
   ]
  },
  {
   "cell_type": "code",
   "execution_count": 3,
   "metadata": {},
   "outputs": [],
   "source": [
    "#se combinan las columnas state y region\n",
    "df['location'] = (df['state'] + '-' + df['region'])\n",
    "\n",
    "#se crea el df donde se ira adaptando la data para el modelo\n",
    "df_adpt = df[['sqfeet',\n",
    " 'beds',\n",
    " 'baths',\n",
    " 'cats_allowed',\n",
    " 'dogs_allowed',\n",
    " 'smoking_allowed',\n",
    " 'wheelchair_access',\n",
    " 'electric_vehicle_charge',\n",
    " 'comes_furnished',]]\n"
   ]
  },
  {
   "attachments": {},
   "cell_type": "markdown",
   "metadata": {},
   "source": [
    "### Creacion dummies"
   ]
  },
  {
   "cell_type": "code",
   "execution_count": 4,
   "metadata": {},
   "outputs": [],
   "source": [
    "#funcion que informa si existe alguna correlacion perfecta\n",
    "def perfectCorrelation(corr: pd.DataFrame) -> bool:\n",
    "    columns = list(corr.columns.values)\n",
    "    perfectCorr = False\n",
    "    for i in columns:\n",
    "        if (corr[i].value_counts()[1] != 1) or (-1 in corr[i].unique()):\n",
    "            perfectCorr = True\n",
    "            print(i)\n",
    "            \n",
    "    return perfectCorr"
   ]
  },
  {
   "cell_type": "code",
   "execution_count": 5,
   "metadata": {},
   "outputs": [
    {
     "data": {
      "text/plain": [
       "False"
      ]
     },
     "execution_count": 5,
     "metadata": {},
     "output_type": "execute_result"
    }
   ],
   "source": [
    "#se crean las dummies de \"type\" y se verifica que no haya correlacion perfecta entre ellas\n",
    "df_dummies = pd.get_dummies(df['type'], columns=['type'], prefix='type')\n",
    "perfectCorrelation(df_dummies.corr())"
   ]
  },
  {
   "cell_type": "code",
   "execution_count": 6,
   "metadata": {},
   "outputs": [],
   "source": [
    "#si no hay correlacion perfecta se agregan las dummies al df adaptado\n",
    "df_adpt = pd.concat([df_adpt, df_dummies], axis=1)"
   ]
  },
  {
   "cell_type": "code",
   "execution_count": 7,
   "metadata": {},
   "outputs": [
    {
     "data": {
      "text/plain": [
       "False"
      ]
     },
     "execution_count": 7,
     "metadata": {},
     "output_type": "execute_result"
    }
   ],
   "source": [
    "#se crean las dummies de \"laundry_options\" y se verifica que no haya correlacion perfecta entre ellas\n",
    "df_dummies = pd.get_dummies(df['laundry_options'], columns=['laundry_options'], prefix='laundry')\n",
    "perfectCorrelation(df_dummies.corr())"
   ]
  },
  {
   "cell_type": "code",
   "execution_count": 8,
   "metadata": {},
   "outputs": [],
   "source": [
    "#si no hay correlacion perfecta se agregan las dummies al df adaptado\n",
    "df_adpt = pd.concat([df_adpt, df_dummies], axis=1)"
   ]
  },
  {
   "cell_type": "code",
   "execution_count": 9,
   "metadata": {},
   "outputs": [
    {
     "data": {
      "text/plain": [
       "False"
      ]
     },
     "execution_count": 9,
     "metadata": {},
     "output_type": "execute_result"
    }
   ],
   "source": [
    "#se crean las dummies de \"parking_options\" y se verifica que no haya correlacion perfecta entre ellas\n",
    "df_dummies = pd.get_dummies(df['parking_options'], columns=['parking_options'], prefix='parking')\n",
    "perfectCorrelation(df_dummies.corr())"
   ]
  },
  {
   "cell_type": "code",
   "execution_count": 10,
   "metadata": {},
   "outputs": [],
   "source": [
    "#si no hay correlacion perfecta se agregan las dummies al df adaptado\n",
    "df_adpt = pd.concat([df_adpt, df_dummies], axis=1)"
   ]
  },
  {
   "cell_type": "code",
   "execution_count": 11,
   "metadata": {},
   "outputs": [
    {
     "data": {
      "text/plain": [
       "False"
      ]
     },
     "execution_count": 11,
     "metadata": {},
     "output_type": "execute_result"
    }
   ],
   "source": [
    "#se crean las dummies de \"location\" y se verifica que no haya correlacion perfecta entre ellas\n",
    "df_dummies = pd.get_dummies(df['location'], columns=['location'], prefix='location')\n",
    "perfectCorrelation(df_dummies.corr())"
   ]
  },
  {
   "cell_type": "code",
   "execution_count": 12,
   "metadata": {},
   "outputs": [],
   "source": [
    "#si no hay correlacion perfecta se agregan las dummies al df adaptado\n",
    "df_adpt = pd.concat([df_adpt, df_dummies], axis=1)"
   ]
  },
  {
   "cell_type": "code",
   "execution_count": 13,
   "metadata": {},
   "outputs": [
    {
     "data": {
      "text/html": [
       "<div>\n",
       "<style scoped>\n",
       "    .dataframe tbody tr th:only-of-type {\n",
       "        vertical-align: middle;\n",
       "    }\n",
       "\n",
       "    .dataframe tbody tr th {\n",
       "        vertical-align: top;\n",
       "    }\n",
       "\n",
       "    .dataframe thead th {\n",
       "        text-align: right;\n",
       "    }\n",
       "</style>\n",
       "<table border=\"1\" class=\"dataframe\">\n",
       "  <thead>\n",
       "    <tr style=\"text-align: right;\">\n",
       "      <th></th>\n",
       "      <th>sqfeet</th>\n",
       "      <th>beds</th>\n",
       "      <th>baths</th>\n",
       "      <th>cats_allowed</th>\n",
       "      <th>dogs_allowed</th>\n",
       "      <th>smoking_allowed</th>\n",
       "      <th>wheelchair_access</th>\n",
       "      <th>electric_vehicle_charge</th>\n",
       "      <th>comes_furnished</th>\n",
       "      <th>type_apartment</th>\n",
       "      <th>...</th>\n",
       "      <th>location_wi-milwaukee</th>\n",
       "      <th>location_wi-northern WI</th>\n",
       "      <th>location_wi-sheboygan</th>\n",
       "      <th>location_wi-wausau</th>\n",
       "      <th>location_wv-charleston</th>\n",
       "      <th>location_wv-eastern panhandle</th>\n",
       "      <th>location_wv-morgantown</th>\n",
       "      <th>location_wv-southern WV</th>\n",
       "      <th>location_wv-west virginia (old)</th>\n",
       "      <th>location_wy-wyoming</th>\n",
       "    </tr>\n",
       "  </thead>\n",
       "  <tbody>\n",
       "    <tr>\n",
       "      <th>0</th>\n",
       "      <td>1344</td>\n",
       "      <td>3</td>\n",
       "      <td>2.0</td>\n",
       "      <td>0</td>\n",
       "      <td>0</td>\n",
       "      <td>1</td>\n",
       "      <td>0</td>\n",
       "      <td>0</td>\n",
       "      <td>0</td>\n",
       "      <td>0</td>\n",
       "      <td>...</td>\n",
       "      <td>0</td>\n",
       "      <td>0</td>\n",
       "      <td>0</td>\n",
       "      <td>0</td>\n",
       "      <td>0</td>\n",
       "      <td>0</td>\n",
       "      <td>0</td>\n",
       "      <td>0</td>\n",
       "      <td>0</td>\n",
       "      <td>0</td>\n",
       "    </tr>\n",
       "    <tr>\n",
       "      <th>1</th>\n",
       "      <td>1050</td>\n",
       "      <td>2</td>\n",
       "      <td>1.0</td>\n",
       "      <td>0</td>\n",
       "      <td>0</td>\n",
       "      <td>1</td>\n",
       "      <td>0</td>\n",
       "      <td>0</td>\n",
       "      <td>0</td>\n",
       "      <td>1</td>\n",
       "      <td>...</td>\n",
       "      <td>0</td>\n",
       "      <td>0</td>\n",
       "      <td>0</td>\n",
       "      <td>0</td>\n",
       "      <td>0</td>\n",
       "      <td>0</td>\n",
       "      <td>0</td>\n",
       "      <td>0</td>\n",
       "      <td>0</td>\n",
       "      <td>0</td>\n",
       "    </tr>\n",
       "    <tr>\n",
       "      <th>2</th>\n",
       "      <td>1150</td>\n",
       "      <td>2</td>\n",
       "      <td>2.0</td>\n",
       "      <td>1</td>\n",
       "      <td>1</td>\n",
       "      <td>1</td>\n",
       "      <td>1</td>\n",
       "      <td>0</td>\n",
       "      <td>0</td>\n",
       "      <td>1</td>\n",
       "      <td>...</td>\n",
       "      <td>0</td>\n",
       "      <td>0</td>\n",
       "      <td>0</td>\n",
       "      <td>0</td>\n",
       "      <td>0</td>\n",
       "      <td>0</td>\n",
       "      <td>0</td>\n",
       "      <td>0</td>\n",
       "      <td>0</td>\n",
       "      <td>0</td>\n",
       "    </tr>\n",
       "    <tr>\n",
       "      <th>3</th>\n",
       "      <td>1280</td>\n",
       "      <td>2</td>\n",
       "      <td>2.5</td>\n",
       "      <td>1</td>\n",
       "      <td>1</td>\n",
       "      <td>0</td>\n",
       "      <td>0</td>\n",
       "      <td>0</td>\n",
       "      <td>0</td>\n",
       "      <td>1</td>\n",
       "      <td>...</td>\n",
       "      <td>0</td>\n",
       "      <td>0</td>\n",
       "      <td>0</td>\n",
       "      <td>0</td>\n",
       "      <td>0</td>\n",
       "      <td>0</td>\n",
       "      <td>0</td>\n",
       "      <td>0</td>\n",
       "      <td>0</td>\n",
       "      <td>0</td>\n",
       "    </tr>\n",
       "    <tr>\n",
       "      <th>4</th>\n",
       "      <td>783</td>\n",
       "      <td>2</td>\n",
       "      <td>1.0</td>\n",
       "      <td>1</td>\n",
       "      <td>1</td>\n",
       "      <td>1</td>\n",
       "      <td>0</td>\n",
       "      <td>0</td>\n",
       "      <td>0</td>\n",
       "      <td>1</td>\n",
       "      <td>...</td>\n",
       "      <td>0</td>\n",
       "      <td>0</td>\n",
       "      <td>0</td>\n",
       "      <td>0</td>\n",
       "      <td>0</td>\n",
       "      <td>0</td>\n",
       "      <td>0</td>\n",
       "      <td>0</td>\n",
       "      <td>0</td>\n",
       "      <td>0</td>\n",
       "    </tr>\n",
       "  </tbody>\n",
       "</table>\n",
       "<p>5 rows × 444 columns</p>\n",
       "</div>"
      ],
      "text/plain": [
       "   sqfeet  beds  baths  cats_allowed  dogs_allowed  smoking_allowed  \\\n",
       "0    1344     3    2.0             0             0                1   \n",
       "1    1050     2    1.0             0             0                1   \n",
       "2    1150     2    2.0             1             1                1   \n",
       "3    1280     2    2.5             1             1                0   \n",
       "4     783     2    1.0             1             1                1   \n",
       "\n",
       "   wheelchair_access  electric_vehicle_charge  comes_furnished  \\\n",
       "0                  0                        0                0   \n",
       "1                  0                        0                0   \n",
       "2                  1                        0                0   \n",
       "3                  0                        0                0   \n",
       "4                  0                        0                0   \n",
       "\n",
       "   type_apartment  ...  location_wi-milwaukee  location_wi-northern WI  \\\n",
       "0               0  ...                      0                        0   \n",
       "1               1  ...                      0                        0   \n",
       "2               1  ...                      0                        0   \n",
       "3               1  ...                      0                        0   \n",
       "4               1  ...                      0                        0   \n",
       "\n",
       "   location_wi-sheboygan  location_wi-wausau  location_wv-charleston  \\\n",
       "0                      0                   0                       0   \n",
       "1                      0                   0                       0   \n",
       "2                      0                   0                       0   \n",
       "3                      0                   0                       0   \n",
       "4                      0                   0                       0   \n",
       "\n",
       "   location_wv-eastern panhandle  location_wv-morgantown  \\\n",
       "0                              0                       0   \n",
       "1                              0                       0   \n",
       "2                              0                       0   \n",
       "3                              0                       0   \n",
       "4                              0                       0   \n",
       "\n",
       "   location_wv-southern WV  location_wv-west virginia (old)  \\\n",
       "0                        0                                0   \n",
       "1                        0                                0   \n",
       "2                        0                                0   \n",
       "3                        0                                0   \n",
       "4                        0                                0   \n",
       "\n",
       "   location_wy-wyoming  \n",
       "0                    0  \n",
       "1                    0  \n",
       "2                    0  \n",
       "3                    0  \n",
       "4                    0  \n",
       "\n",
       "[5 rows x 444 columns]"
      ]
     },
     "execution_count": 13,
     "metadata": {},
     "output_type": "execute_result"
    }
   ],
   "source": [
    "df_adpt.head()"
   ]
  },
  {
   "attachments": {},
   "cell_type": "markdown",
   "metadata": {},
   "source": [
    "# Se guarda la dataset modificada"
   ]
  },
  {
   "cell_type": "code",
   "execution_count": null,
   "metadata": {},
   "outputs": [],
   "source": [
    "df_adpt.to_parquet('Datasets/train_modified.parquet', engine='pyarrow')"
   ]
  },
  {
   "cell_type": "code",
   "execution_count": 14,
   "metadata": {},
   "outputs": [],
   "source": [
    "df_adpt.to_parquet('Datasets/test_modified.parquet', engine='pyarrow')"
   ]
  }
 ],
 "metadata": {
  "kernelspec": {
   "display_name": "properties-env",
   "language": "python",
   "name": "python3"
  },
  "language_info": {
   "codemirror_mode": {
    "name": "ipython",
    "version": 3
   },
   "file_extension": ".py",
   "mimetype": "text/x-python",
   "name": "python",
   "nbconvert_exporter": "python",
   "pygments_lexer": "ipython3",
   "version": "3.10.6 (main, Nov 14 2022, 16:10:14) [GCC 11.3.0]"
  },
  "orig_nbformat": 4,
  "vscode": {
   "interpreter": {
    "hash": "e57b6f3fee723544e7dd3b18ea6b441a386e4e4297347b3e7812c9f249c68bd8"
   }
  }
 },
 "nbformat": 4,
 "nbformat_minor": 2
}
