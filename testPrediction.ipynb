{
 "cells": [
  {
   "cell_type": "code",
   "execution_count": 1,
   "metadata": {},
   "outputs": [],
   "source": [
    "import pandas as pd\n",
    "from sklearn.tree import DecisionTreeClassifier"
   ]
  },
  {
   "attachments": {},
   "cell_type": "markdown",
   "metadata": {},
   "source": [
    "Se carga la data modificada"
   ]
  },
  {
   "cell_type": "code",
   "execution_count": 2,
   "metadata": {},
   "outputs": [],
   "source": [
    "df_train = pd.read_parquet('Datasets/train_modified.parquet', engine='pyarrow')\n",
    "df_test = pd.read_parquet('Datasets/test_modified.parquet', engine='pyarrow')"
   ]
  },
  {
   "attachments": {},
   "cell_type": "markdown",
   "metadata": {},
   "source": [
    "Se arreglan las columnas de train y test para que concuerden"
   ]
  },
  {
   "cell_type": "code",
   "execution_count": 3,
   "metadata": {},
   "outputs": [],
   "source": [
    "#Se agregan las columnas faltantes al test\n",
    "\n",
    "colTrain = list(df_train.columns.values)\n",
    "colTest = list(df_test.columns.values)\n",
    "\n",
    "for i in colTrain :\n",
    "    if i not in colTest :\n",
    "        if i != 'price' and i != 'isLow' :\n",
    "            df_test[i] = 0"
   ]
  },
  {
   "cell_type": "code",
   "execution_count": 4,
   "metadata": {},
   "outputs": [],
   "source": [
    "#Se asegura que las columnas de train y test queden en el mismo orden\n",
    "\n",
    "df_train = df_train.reindex(sorted(df_train.columns), axis=1)\n",
    "df_test = df_test.reindex(sorted(df_test.columns), axis=1)\n"
   ]
  },
  {
   "attachments": {},
   "cell_type": "markdown",
   "metadata": {},
   "source": [
    "Se realiza la prediccion"
   ]
  },
  {
   "cell_type": "code",
   "execution_count": 5,
   "metadata": {},
   "outputs": [],
   "source": [
    "X_train = df_train.drop(columns=['isLow', 'price'])#seleccinamos las variables features\n",
    "y_train = df_train.isLow#seleccionamos la variable objetivo\n",
    "\n",
    "#se crea uy entrena el modelo\n",
    "clf = DecisionTreeClassifier(max_depth=60)\n",
    "clf = clf.fit(X_train,y_train)"
   ]
  },
  {
   "cell_type": "code",
   "execution_count": 6,
   "metadata": {},
   "outputs": [],
   "source": [
    "#se realiza la prediccion\n",
    "test_pred = clf.predict(df_test)"
   ]
  },
  {
   "attachments": {},
   "cell_type": "markdown",
   "metadata": {},
   "source": [
    "Se guarda la prediccion"
   ]
  },
  {
   "cell_type": "code",
   "execution_count": 7,
   "metadata": {},
   "outputs": [],
   "source": [
    "prediction = pd.DataFrame()\n",
    "prediction['pred'] = test_pred\n",
    "prediction.to_csv('tests_results/prediction_2.csv', sep=',', index=False, header=True)"
   ]
  }
 ],
 "metadata": {
  "kernelspec": {
   "display_name": "Python 3",
   "language": "python",
   "name": "python3"
  },
  "language_info": {
   "codemirror_mode": {
    "name": "ipython",
    "version": 3
   },
   "file_extension": ".py",
   "mimetype": "text/x-python",
   "name": "python",
   "nbconvert_exporter": "python",
   "pygments_lexer": "ipython3",
   "version": "3.10.6 (main, Nov 14 2022, 16:10:14) [GCC 11.3.0]"
  },
  "orig_nbformat": 4,
  "vscode": {
   "interpreter": {
    "hash": "916dbcbb3f70747c44a77c7bcd40155683ae19c65e1c03b4aa3499c5328201f1"
   }
  }
 },
 "nbformat": 4,
 "nbformat_minor": 2
}
